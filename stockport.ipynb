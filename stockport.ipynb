{
  "nbformat": 4,
  "nbformat_minor": 0,
  "metadata": {
    "colab": {
      "provenance": [],
      "include_colab_link": true
    },
    "kernelspec": {
      "name": "python3",
      "display_name": "Python 3"
    },
    "language_info": {
      "name": "python"
    }
  },
  "cells": [
    {
      "cell_type": "markdown",
      "metadata": {
        "id": "view-in-github",
        "colab_type": "text"
      },
      "source": [
        "<a href=\"https://colab.research.google.com/github/CHAITRATR-400/CHAITRATR-400/blob/main/stockport.ipynb\" target=\"_parent\"><img src=\"https://colab.research.google.com/assets/colab-badge.svg\" alt=\"Open In Colab\"/></a>"
      ]
    },
    {
      "cell_type": "code",
      "source": [
        "pip install pandas numpy nltk vaderSentiment"
      ],
      "metadata": {
        "id": "brqID6TdoEj8",
        "colab": {
          "base_uri": "https://localhost:8080/"
        },
        "outputId": "841ca517-1603-430a-de5c-18eb8c09ab7b"
      },
      "execution_count": 1,
      "outputs": [
        {
          "output_type": "stream",
          "name": "stdout",
          "text": [
            "Requirement already satisfied: pandas in /usr/local/lib/python3.10/dist-packages (1.5.3)\n",
            "Requirement already satisfied: numpy in /usr/local/lib/python3.10/dist-packages (1.23.5)\n",
            "Requirement already satisfied: nltk in /usr/local/lib/python3.10/dist-packages (3.8.1)\n",
            "Collecting vaderSentiment\n",
            "  Downloading vaderSentiment-3.3.2-py2.py3-none-any.whl (125 kB)\n",
            "\u001b[2K     \u001b[90m━━━━━━━━━━━━━━━━━━━━━━━━━━━━━━━━━━━━━━━\u001b[0m \u001b[32m126.0/126.0 kB\u001b[0m \u001b[31m2.5 MB/s\u001b[0m eta \u001b[36m0:00:00\u001b[0m\n",
            "\u001b[?25hRequirement already satisfied: python-dateutil>=2.8.1 in /usr/local/lib/python3.10/dist-packages (from pandas) (2.8.2)\n",
            "Requirement already satisfied: pytz>=2020.1 in /usr/local/lib/python3.10/dist-packages (from pandas) (2023.3.post1)\n",
            "Requirement already satisfied: click in /usr/local/lib/python3.10/dist-packages (from nltk) (8.1.7)\n",
            "Requirement already satisfied: joblib in /usr/local/lib/python3.10/dist-packages (from nltk) (1.3.2)\n",
            "Requirement already satisfied: regex>=2021.8.3 in /usr/local/lib/python3.10/dist-packages (from nltk) (2023.6.3)\n",
            "Requirement already satisfied: tqdm in /usr/local/lib/python3.10/dist-packages (from nltk) (4.66.1)\n",
            "Requirement already satisfied: requests in /usr/local/lib/python3.10/dist-packages (from vaderSentiment) (2.31.0)\n",
            "Requirement already satisfied: six>=1.5 in /usr/local/lib/python3.10/dist-packages (from python-dateutil>=2.8.1->pandas) (1.16.0)\n",
            "Requirement already satisfied: charset-normalizer<4,>=2 in /usr/local/lib/python3.10/dist-packages (from requests->vaderSentiment) (3.2.0)\n",
            "Requirement already satisfied: idna<4,>=2.5 in /usr/local/lib/python3.10/dist-packages (from requests->vaderSentiment) (3.4)\n",
            "Requirement already satisfied: urllib3<3,>=1.21.1 in /usr/local/lib/python3.10/dist-packages (from requests->vaderSentiment) (2.0.4)\n",
            "Requirement already satisfied: certifi>=2017.4.17 in /usr/local/lib/python3.10/dist-packages (from requests->vaderSentiment) (2023.7.22)\n",
            "Installing collected packages: vaderSentiment\n",
            "Successfully installed vaderSentiment-3.3.2\n"
          ]
        }
      ]
    },
    {
      "cell_type": "code",
      "source": [
        "import nltk\n",
        "from nltk.sentiment.vader import SentimentIntensityAnalyzer\n",
        "\n",
        "# Download VADER lexicon if not already downloaded\n",
        "nltk.download('vader_lexicon')\n",
        "\n",
        "# Initialize the VADER sentiment analyzer\n",
        "sia = SentimentIntensityAnalyzer()\n",
        "\n",
        "def predict_sentiment(text):\n",
        "    # Calculate sentiment scores\n",
        "    sentiment_scores = sia.polarity_scores(text)\n",
        "\n",
        "    # Interpret the sentiment scores\n",
        "    if sentiment_scores['compound'] >= 0.05:\n",
        "        sentiment = \"Positive\"\n",
        "    elif sentiment_scores['compound'] <= -0.05:\n",
        "        sentiment = \"Negative\"\n",
        "    else:\n",
        "        sentiment = \"Neutral\"\n",
        "\n",
        "    return sentiment, sentiment_scores\n",
        "\n",
        "# Input text for analysis\n",
        "text = input(\"Enter the text related to Stockport: \")\n",
        "\n",
        "# Predict sentiment and get sentiment scores\n",
        "sentiment, sentiment_scores = predict_sentiment(text)\n",
        "\n",
        "# Print the results\n",
        "print(f\"Sentiment: {sentiment}\")\n",
        "print(f\"Positive Score: {sentiment_scores['pos']:.2f}\")\n",
        "print(f\"Negative Score: {sentiment_scores['neg']:.2f}\")\n",
        "print(f\"Neutral Score: {sentiment_scores['neu']:.2f}\")\n",
        "print(f\"Compound Score: {sentiment_scores['compound']:.2f}\")\n",
        "\n",
        "import pandas as pd\n",
        "import numpy as np\n",
        "\n",
        "# Sample data containing stock-related tweets\n",
        "data = {\n",
        "    'tweets': [\n",
        "        \"Stock XYZ is going up today!\",\n",
        "        \"I'm bullish on Stock ABC\",\n",
        "        \"I just sold all my shares in Stock DEF\",\n",
        "        \"The market is crashing!\",\n",
        "        \"Investing in Stock GHI is a terrible idea\",\n",
        "    ]\n",
        "}\n",
        "\n",
        "df = pd.DataFrame(data)\n",
        "\n",
        "# Initialize the VADER sentiment analyzer\n",
        "analyzer = SentimentIntensityAnalyzer()\n",
        "\n",
        "# Function to calculate sentiment scores\n",
        "def calculate_sentiment_scores(text):\n",
        "    sentiment = analyzer.polarity_scores(text)\n",
        "    return sentiment['compound']\n",
        "\n",
        "# Apply sentiment analysis to each tweet\n",
        "df['sentiment_score'] = df['tweets'].apply(calculate_sentiment_scores)\n",
        "\n",
        "# Classify sentiments\n",
        "df['sentiment'] = np.where(df['sentiment_score'] > 0, 'positive',\n",
        "                           np.where(df['sentiment_score'] < 0, 'negative', 'neutral'))\n",
        "\n",
        "# Display the results\n",
        "print(df)"
      ],
      "metadata": {
        "colab": {
          "base_uri": "https://localhost:8080/"
        },
        "id": "SPcAtB69gwHC",
        "outputId": "16240e37-8781-41bc-9a1a-41faf3d766cb"
      },
      "execution_count": 2,
      "outputs": [
        {
          "output_type": "stream",
          "name": "stderr",
          "text": [
            "[nltk_data] Downloading package vader_lexicon to /root/nltk_data...\n"
          ]
        },
        {
          "output_type": "stream",
          "name": "stdout",
          "text": [
            "Enter the text related to Stockport: better\n",
            "Sentiment: Positive\n",
            "Positive Score: 1.00\n",
            "Negative Score: 0.00\n",
            "Neutral Score: 0.00\n",
            "Compound Score: 0.44\n",
            "                                      tweets  sentiment_score sentiment\n",
            "0               Stock XYZ is going up today!           0.0000   neutral\n",
            "1                   I'm bullish on Stock ABC           0.0000   neutral\n",
            "2     I just sold all my shares in Stock DEF           0.2960  positive\n",
            "3                    The market is crashing!           0.0000   neutral\n",
            "4  Investing in Stock GHI is a terrible idea          -0.4767  negative\n"
          ]
        }
      ]
    }
  ]
}